{
  "cells": [
    {
      "cell_type": "code",
      "execution_count": null,
      "metadata": {
        "id": "ELOCyBxQgku5"
      },
      "outputs": [],
      "source": [
        "import numpy as np # linear algebra\n",
        "import pandas as pd # data processing, CSV file I/O (e.g. pd.read_csv)\n",
        "from google.colab import files"
      ]
    },
    {
      "cell_type": "code",
      "execution_count": null,
      "metadata": {
        "colab": {
          "base_uri": "https://localhost:8080/"
        },
        "id": "db2YYqP3Nfc8",
        "outputId": "17873e52-b9a5-4017-e8c0-4e4706c4fa91"
      },
      "outputs": [
        {
          "output_type": "stream",
          "name": "stdout",
          "text": [
            "Mounted at /content/drive\n"
          ]
        }
      ],
      "source": [
        "from google.colab import drive\n",
        "drive.mount('/content/drive')"
      ]
    },
    {
      "cell_type": "code",
      "execution_count": null,
      "metadata": {
        "id": "ePfJZqKhjFkv"
      },
      "outputs": [],
      "source": [
        "import io\n",
        "\n",
        "cont = pd.read_csv('/content/drive/MyDrive/Kaggle/content.csv')\n",
        "corr = pd.read_csv('/content/drive/MyDrive/Kaggle/correlations.csv')\n",
        "tops = pd.read_csv('/content/drive/MyDrive/Kaggle/topics.csv')"
      ]
    },
    {
      "cell_type": "code",
      "source": [
        "eng = tops[(tops[\"language\"] == \"en\") & (tops[\"level\"] > 0)].iloc[:, [1,2,7]]\n",
        "eng = eng.to_numpy()\n",
        "\n",
        "for i in eng:\n",
        "    for j in range(2):\n",
        "        try:\n",
        "            if np.isnan(i[j]):\n",
        "                i[j] = '.'\n",
        "        except:\n",
        "            pass\n",
        "\n",
        "words = [\"\" for _ in range(len(eng))]\n",
        "\n",
        "n = 0\n",
        "for i in range(len(eng)):\n",
        "    words[i] = eng[i][0] + \" \" + eng[i][1]\n",
        "\n",
        "    s = eng[i][2]\n",
        "    t1 = tops[tops[\"id\"] == s][\"title\"].values[0]\n",
        "    t2 = tops[tops[\"id\"] == s][\"description\"].values[0]\n",
        "\n",
        "    if not(pd.isnull(t1)):\n",
        "        words[i] += \" \" + t1\n",
        "    if not(pd.isnull(t2)):\n",
        "        words[i] += \" \" + t2\n",
        "\n",
        "    n += 1\n",
        "    if n%5000 == 0:\n",
        "        print(n)"
      ],
      "metadata": {
        "colab": {
          "base_uri": "https://localhost:8080/"
        },
        "id": "ymbNMPq2z3DK",
        "outputId": "82d5571b-d51e-4767-a3d0-d62fb9aad4b5"
      },
      "execution_count": null,
      "outputs": [
        {
          "output_type": "stream",
          "name": "stdout",
          "text": [
            "5000\n",
            "10000\n",
            "15000\n",
            "20000\n",
            "25000\n",
            "30000\n",
            "35000\n"
          ]
        }
      ]
    },
    {
      "cell_type": "code",
      "source": [
        "print(len(words))"
      ],
      "metadata": {
        "colab": {
          "base_uri": "https://localhost:8080/"
        },
        "id": "IrYMUlSo3g4Q",
        "outputId": "2dd24268-6472-4d1f-845a-3c7e3bd8574c"
      },
      "execution_count": null,
      "outputs": [
        {
          "output_type": "stream",
          "name": "stdout",
          "text": [
            "36079\n"
          ]
        }
      ]
    },
    {
      "cell_type": "code",
      "source": [
        "print(words)"
      ],
      "metadata": {
        "colab": {
          "base_uri": "https://localhost:8080/"
        },
        "id": "_7B0rDVc8OIW",
        "outputId": "0c2f1439-5acd-470f-cb75-76c6b7100fed"
      },
      "execution_count": null,
      "outputs": [
        {
          "output_type": "stream",
          "name": "stderr",
          "text": [
            "IOPub data rate exceeded.\n",
            "The notebook server will temporarily stop sending output\n",
            "to the client in order to avoid crashing it.\n",
            "To change this limit, set the config variable\n",
            "`--NotebookApp.iopub_data_rate_limit`.\n",
            "\n",
            "Current values:\n",
            "NotebookApp.iopub_data_rate_limit=1000000.0 (bytes/sec)\n",
            "NotebookApp.rate_limit_window=3.0 (secs)\n",
            "\n"
          ]
        }
      ]
    },
    {
      "cell_type": "code",
      "source": [
        "a = [1]\n",
        "b = a\n",
        "c = a.copy()\n",
        "b[0] = 2\n",
        "c[0] = 3\n",
        "print(a, b, c)"
      ],
      "metadata": {
        "colab": {
          "base_uri": "https://localhost:8080/"
        },
        "id": "ZIEof6vu6DEz",
        "outputId": "e65711c8-a19d-42c8-c927-b12add51edbe"
      },
      "execution_count": null,
      "outputs": [
        {
          "output_type": "stream",
          "name": "stdout",
          "text": [
            "[2] [2] [3]\n"
          ]
        }
      ]
    },
    {
      "cell_type": "code",
      "execution_count": null,
      "metadata": {
        "colab": {
          "base_uri": "https://localhost:8080/"
        },
        "id": "hc5kLp50Il-4",
        "outputId": "f53789db-6d16-4bd5-a3ee-1556dccf0d36"
      },
      "outputs": [
        {
          "output_type": "stream",
          "name": "stderr",
          "text": [
            "[nltk_data] Downloading package stopwords to /root/nltk_data...\n",
            "[nltk_data]   Package stopwords is already up-to-date!\n",
            "[nltk_data] Downloading package punkt to /root/nltk_data...\n",
            "[nltk_data]   Package punkt is already up-to-date!\n",
            "[nltk_data] Downloading package wordnet to /root/nltk_data...\n",
            "[nltk_data]   Package wordnet is already up-to-date!\n",
            "[nltk_data] Downloading package omw-1.4 to /root/nltk_data...\n",
            "[nltk_data]   Package omw-1.4 is already up-to-date!\n"
          ]
        }
      ],
      "source": [
        "from nltk import download\n",
        "from nltk.corpus import stopwords\n",
        "from nltk.tokenize import word_tokenize\n",
        "from nltk.tokenize import RegexpTokenizer\n",
        "from nltk.stem import WordNetLemmatizer\n",
        "\n",
        "download('stopwords')\n",
        "download('punkt')\n",
        "download('wordnet')\n",
        "download('omw-1.4')\n",
        "stop_words = set(stopwords.words('english'))\n",
        "#tokenizer = RegexpTokenizer(r'\\w+')\n",
        "tokenizer = RegexpTokenizer(r'[a-zA-Z]+')\n",
        "lemmatizer = WordNetLemmatizer()\n",
        "\n",
        "def clean(text):\n",
        "    text = text.lower()\n",
        "    word_tokens = tokenizer.tokenize(\" \".join(word_tokenize(text)))\n",
        "\n",
        "    filtered_sentence = [lemmatizer.lemmatize(w) for w in word_tokens if not w in stop_words]\n",
        "    return filtered_sentence"
      ]
    },
    {
      "cell_type": "code",
      "execution_count": null,
      "metadata": {
        "colab": {
          "base_uri": "https://localhost:8080/"
        },
        "id": "wUmAhIfHLWBi",
        "outputId": "454b3e58-36a2-463f-993d-9c41389cf0d0"
      },
      "outputs": [
        {
          "output_type": "stream",
          "name": "stdout",
          "text": [
            "['flow', 'chart', 'logical', 'thinking', 'lesson', 'focused', 'flow', 'chart', 'hikesehotum']\n"
          ]
        }
      ],
      "source": [
        "try:\n",
        "    kesehotum = clean(\".Flow Charts: Logical Thinking?This lesson is focused on flow charts. It hikesehotum\")\n",
        "    print(kesehotum)\n",
        "\n",
        "except:\n",
        "    print(\"no u\")"
      ]
    },
    {
      "cell_type": "code",
      "execution_count": null,
      "metadata": {
        "id": "uE2Cp-dpMve4"
      },
      "outputs": [],
      "source": [
        "filter = words.copy()\n",
        "for i in range(len(words)):\n",
        "    filter[i] = clean(filter[i])\n",
        "\n",
        "# print(filter)"
      ]
    },
    {
      "cell_type": "code",
      "execution_count": null,
      "metadata": {
        "id": "aGPggq2g_RI2"
      },
      "outputs": [],
      "source": [
        "with open('final_keywords.txt', 'w') as f:\n",
        "    for i in range(len(filter)):\n",
        "        f.write(\" \".join(filter[i]) + \"\\n\")"
      ]
    },
    {
      "cell_type": "code",
      "execution_count": null,
      "metadata": {
        "colab": {
          "base_uri": "https://localhost:8080/"
        },
        "id": "2jfbSFORYLY3",
        "outputId": "82d32cd4-6475-4937-df54-652c1ca7e1d9"
      },
      "outputs": [
        {
          "output_type": "execute_result",
          "data": {
            "text/plain": [
              "36079"
            ]
          },
          "metadata": {},
          "execution_count": 50
        }
      ],
      "source": [
        "len(filter)"
      ]
    },
    {
      "cell_type": "markdown",
      "metadata": {
        "id": "foOYUMB-F_M7"
      },
      "source": [
        "# Old Stuff"
      ]
    },
    {
      "cell_type": "code",
      "execution_count": null,
      "metadata": {
        "id": "uJcVRpc8kuuw"
      },
      "outputs": [],
      "source": [
        "# main = tops[[\"id\", \"title\", \"level\", \"parent\", \"has_content\"]]\n",
        "# main.head()"
      ]
    },
    {
      "cell_type": "code",
      "execution_count": null,
      "metadata": {
        "id": "8wqxfsMT3cPE"
      },
      "outputs": [],
      "source": [
        "# main[\"children\"] = [set() for _ in range(len(main))]\n",
        "# main.head()"
      ]
    },
    {
      "cell_type": "code",
      "execution_count": null,
      "metadata": {
        "id": "XRDHXrskCkKW"
      },
      "outputs": [],
      "source": [
        "# main.head(10)"
      ]
    },
    {
      "cell_type": "code",
      "execution_count": null,
      "metadata": {
        "id": "Z_ZTBCbSDeji"
      },
      "outputs": [],
      "source": [
        "# temp = np.where(main[\"id\"] == \"t_f9c4ef0d6290\")\n",
        "# print(temp[0][0])\n",
        "# print(main.iloc[75073][\"children\"])"
      ]
    },
    {
      "cell_type": "code",
      "execution_count": null,
      "metadata": {
        "id": "G1LT432ylZxa"
      },
      "outputs": [],
      "source": [
        "# for index, row in main.iterrows():\n",
        "#     if row[\"level\"] != 0:\n",
        "#         temp = main.iloc[np.where((main[\"id\"] == row[\"parent\"]))[0][0]][\"children\"]\n",
        "#         temp.add(row[\"id\"])\n",
        "\n",
        "# main.head()"
      ]
    },
    {
      "cell_type": "code",
      "execution_count": null,
      "metadata": {
        "id": "IL_6ZDWWLcJ1"
      },
      "outputs": [],
      "source": [
        "# main.to_csv(\"revised_topics.csv\")"
      ]
    },
    {
      "cell_type": "code",
      "execution_count": null,
      "metadata": {
        "id": "lCtiesNpM9kC"
      },
      "outputs": [],
      "source": [
        "# main = pd.read_csv('/content/drive/MyDrive/Kaggle/revised_topics.csv')"
      ]
    },
    {
      "cell_type": "code",
      "execution_count": null,
      "metadata": {
        "id": "a1jAoLt9me9L"
      },
      "outputs": [],
      "source": [
        "# parent = tops.loc[tops[\"id\"]==\"t_000095e03056\"]['parent'].values[0]\n",
        "# child = tops.loc[tops[\"parent\"]==\"t_000095e03056\"]['id'].values[0]\n",
        "\n",
        "# #tops.loc[tops['id']==parent]\n",
        "# tops.loc[tops['id']==child]\n"
      ]
    },
    {
      "cell_type": "code",
      "execution_count": null,
      "metadata": {
        "id": "86YWL9O5zdkM"
      },
      "outputs": [],
      "source": [
        "# tops.loc[(tops.level == 1) & (tops.has_content == True)]"
      ]
    },
    {
      "cell_type": "code",
      "execution_count": null,
      "metadata": {
        "id": "3ula2mQ4wTZB"
      },
      "outputs": [],
      "source": [
        "# corr.loc[corr['topic_id']==child]"
      ]
    },
    {
      "cell_type": "code",
      "execution_count": null,
      "metadata": {
        "id": "JXpUxA6u6vM6"
      },
      "outputs": [],
      "source": [
        "# # Pseudocode for generating outlines\n",
        "# '''\n",
        "# using topics dataset\n",
        "# start from level  0 topics\n",
        "# query all topics that have that level 0 topic as parent\n",
        "# query all topics that have that level 1 topic as parent\n",
        "# repeat until deadends\n",
        "\n",
        "# using correlations dataset and content dataset\n",
        "# find content name and put it under the topic it matches\n",
        "\n",
        "# '''"
      ]
    },
    {
      "cell_type": "code",
      "source": [
        "# cont.head(3)"
      ],
      "metadata": {
        "colab": {
          "base_uri": "https://localhost:8080/",
          "height": 205
        },
        "id": "INagX30XL2o6",
        "outputId": "84f2a0da-c097-4897-83d2-4e8ae5d19b6b"
      },
      "execution_count": null,
      "outputs": [
        {
          "output_type": "execute_result",
          "data": {
            "text/plain": [
              "               id                                             title  \\\n",
              "0  c_00002381196d  Sumar números de varios dígitos: 48,029+233,930    \n",
              "1  c_000087304a9e                    Trovare i fattori di un numero   \n",
              "2  c_0000ad142ddb                           Sumar curvas de demanda   \n",
              "\n",
              "                                         description   kind text language  \\\n",
              "0  Suma 48,029+233,930 mediante el algoritmo está...  video  NaN       es   \n",
              "1                    Sal trova i fattori di 120.\\n\\n  video  NaN       it   \n",
              "2                  Cómo añadir curvas de demanda\\n\\n  video  NaN       es   \n",
              "\n",
              "  copyright_holder license  \n",
              "0              NaN     NaN  \n",
              "1              NaN     NaN  \n",
              "2              NaN     NaN  "
            ],
            "text/html": [
              "\n",
              "  <div id=\"df-dae5a1d0-5bf8-4e6e-976b-2b61d5ef0560\">\n",
              "    <div class=\"colab-df-container\">\n",
              "      <div>\n",
              "<style scoped>\n",
              "    .dataframe tbody tr th:only-of-type {\n",
              "        vertical-align: middle;\n",
              "    }\n",
              "\n",
              "    .dataframe tbody tr th {\n",
              "        vertical-align: top;\n",
              "    }\n",
              "\n",
              "    .dataframe thead th {\n",
              "        text-align: right;\n",
              "    }\n",
              "</style>\n",
              "<table border=\"1\" class=\"dataframe\">\n",
              "  <thead>\n",
              "    <tr style=\"text-align: right;\">\n",
              "      <th></th>\n",
              "      <th>id</th>\n",
              "      <th>title</th>\n",
              "      <th>description</th>\n",
              "      <th>kind</th>\n",
              "      <th>text</th>\n",
              "      <th>language</th>\n",
              "      <th>copyright_holder</th>\n",
              "      <th>license</th>\n",
              "    </tr>\n",
              "  </thead>\n",
              "  <tbody>\n",
              "    <tr>\n",
              "      <th>0</th>\n",
              "      <td>c_00002381196d</td>\n",
              "      <td>Sumar números de varios dígitos: 48,029+233,930</td>\n",
              "      <td>Suma 48,029+233,930 mediante el algoritmo está...</td>\n",
              "      <td>video</td>\n",
              "      <td>NaN</td>\n",
              "      <td>es</td>\n",
              "      <td>NaN</td>\n",
              "      <td>NaN</td>\n",
              "    </tr>\n",
              "    <tr>\n",
              "      <th>1</th>\n",
              "      <td>c_000087304a9e</td>\n",
              "      <td>Trovare i fattori di un numero</td>\n",
              "      <td>Sal trova i fattori di 120.\\n\\n</td>\n",
              "      <td>video</td>\n",
              "      <td>NaN</td>\n",
              "      <td>it</td>\n",
              "      <td>NaN</td>\n",
              "      <td>NaN</td>\n",
              "    </tr>\n",
              "    <tr>\n",
              "      <th>2</th>\n",
              "      <td>c_0000ad142ddb</td>\n",
              "      <td>Sumar curvas de demanda</td>\n",
              "      <td>Cómo añadir curvas de demanda\\n\\n</td>\n",
              "      <td>video</td>\n",
              "      <td>NaN</td>\n",
              "      <td>es</td>\n",
              "      <td>NaN</td>\n",
              "      <td>NaN</td>\n",
              "    </tr>\n",
              "  </tbody>\n",
              "</table>\n",
              "</div>\n",
              "      <button class=\"colab-df-convert\" onclick=\"convertToInteractive('df-dae5a1d0-5bf8-4e6e-976b-2b61d5ef0560')\"\n",
              "              title=\"Convert this dataframe to an interactive table.\"\n",
              "              style=\"display:none;\">\n",
              "        \n",
              "  <svg xmlns=\"http://www.w3.org/2000/svg\" height=\"24px\"viewBox=\"0 0 24 24\"\n",
              "       width=\"24px\">\n",
              "    <path d=\"M0 0h24v24H0V0z\" fill=\"none\"/>\n",
              "    <path d=\"M18.56 5.44l.94 2.06.94-2.06 2.06-.94-2.06-.94-.94-2.06-.94 2.06-2.06.94zm-11 1L8.5 8.5l.94-2.06 2.06-.94-2.06-.94L8.5 2.5l-.94 2.06-2.06.94zm10 10l.94 2.06.94-2.06 2.06-.94-2.06-.94-.94-2.06-.94 2.06-2.06.94z\"/><path d=\"M17.41 7.96l-1.37-1.37c-.4-.4-.92-.59-1.43-.59-.52 0-1.04.2-1.43.59L10.3 9.45l-7.72 7.72c-.78.78-.78 2.05 0 2.83L4 21.41c.39.39.9.59 1.41.59.51 0 1.02-.2 1.41-.59l7.78-7.78 2.81-2.81c.8-.78.8-2.07 0-2.86zM5.41 20L4 18.59l7.72-7.72 1.47 1.35L5.41 20z\"/>\n",
              "  </svg>\n",
              "      </button>\n",
              "      \n",
              "  <style>\n",
              "    .colab-df-container {\n",
              "      display:flex;\n",
              "      flex-wrap:wrap;\n",
              "      gap: 12px;\n",
              "    }\n",
              "\n",
              "    .colab-df-convert {\n",
              "      background-color: #E8F0FE;\n",
              "      border: none;\n",
              "      border-radius: 50%;\n",
              "      cursor: pointer;\n",
              "      display: none;\n",
              "      fill: #1967D2;\n",
              "      height: 32px;\n",
              "      padding: 0 0 0 0;\n",
              "      width: 32px;\n",
              "    }\n",
              "\n",
              "    .colab-df-convert:hover {\n",
              "      background-color: #E2EBFA;\n",
              "      box-shadow: 0px 1px 2px rgba(60, 64, 67, 0.3), 0px 1px 3px 1px rgba(60, 64, 67, 0.15);\n",
              "      fill: #174EA6;\n",
              "    }\n",
              "\n",
              "    [theme=dark] .colab-df-convert {\n",
              "      background-color: #3B4455;\n",
              "      fill: #D2E3FC;\n",
              "    }\n",
              "\n",
              "    [theme=dark] .colab-df-convert:hover {\n",
              "      background-color: #434B5C;\n",
              "      box-shadow: 0px 1px 3px 1px rgba(0, 0, 0, 0.15);\n",
              "      filter: drop-shadow(0px 1px 2px rgba(0, 0, 0, 0.3));\n",
              "      fill: #FFFFFF;\n",
              "    }\n",
              "  </style>\n",
              "\n",
              "      <script>\n",
              "        const buttonEl =\n",
              "          document.querySelector('#df-dae5a1d0-5bf8-4e6e-976b-2b61d5ef0560 button.colab-df-convert');\n",
              "        buttonEl.style.display =\n",
              "          google.colab.kernel.accessAllowed ? 'block' : 'none';\n",
              "\n",
              "        async function convertToInteractive(key) {\n",
              "          const element = document.querySelector('#df-dae5a1d0-5bf8-4e6e-976b-2b61d5ef0560');\n",
              "          const dataTable =\n",
              "            await google.colab.kernel.invokeFunction('convertToInteractive',\n",
              "                                                     [key], {});\n",
              "          if (!dataTable) return;\n",
              "\n",
              "          const docLinkHtml = 'Like what you see? Visit the ' +\n",
              "            '<a target=\"_blank\" href=https://colab.research.google.com/notebooks/data_table.ipynb>data table notebook</a>'\n",
              "            + ' to learn more about interactive tables.';\n",
              "          element.innerHTML = '';\n",
              "          dataTable['output_type'] = 'display_data';\n",
              "          await google.colab.output.renderOutput(dataTable, element);\n",
              "          const docLink = document.createElement('div');\n",
              "          docLink.innerHTML = docLinkHtml;\n",
              "          element.appendChild(docLink);\n",
              "        }\n",
              "      </script>\n",
              "    </div>\n",
              "  </div>\n",
              "  "
            ]
          },
          "metadata": {},
          "execution_count": 4
        }
      ]
    },
    {
      "cell_type": "code",
      "execution_count": null,
      "metadata": {
        "colab": {
          "base_uri": "https://localhost:8080/",
          "height": 240
        },
        "id": "HVQy8m_dkjIe",
        "outputId": "24abe1cf-857e-4698-f309-8a8b839a6f89"
      },
      "outputs": [
        {
          "output_type": "execute_result",
          "data": {
            "text/plain": [
              "               id                                   title  \\\n",
              "0  t_00004da3a1b2              Откриването на резисторите   \n",
              "1  t_000095e03056  Unit 3.3 Enlargements and Similarities   \n",
              "2  t_00068291e9a4         Entradas e saídas de uma função   \n",
              "\n",
              "                                         description channel category  level  \\\n",
              "0  Изследване на материали, които предизвикват на...  000cf7   source      4   \n",
              "1                                                NaN  b3f329  aligned      2   \n",
              "2               Entenda um pouco mais sobre funções.  8e286a   source      4   \n",
              "\n",
              "  language          parent  has_content  \n",
              "0       bg  t_16e29365b50d         True  \n",
              "1       en  t_aa32fb6252dc        False  \n",
              "2       pt  t_d14b6c2a2b70         True  "
            ],
            "text/html": [
              "\n",
              "  <div id=\"df-a9d7e29f-230a-464a-bd2e-80b60540cff7\">\n",
              "    <div class=\"colab-df-container\">\n",
              "      <div>\n",
              "<style scoped>\n",
              "    .dataframe tbody tr th:only-of-type {\n",
              "        vertical-align: middle;\n",
              "    }\n",
              "\n",
              "    .dataframe tbody tr th {\n",
              "        vertical-align: top;\n",
              "    }\n",
              "\n",
              "    .dataframe thead th {\n",
              "        text-align: right;\n",
              "    }\n",
              "</style>\n",
              "<table border=\"1\" class=\"dataframe\">\n",
              "  <thead>\n",
              "    <tr style=\"text-align: right;\">\n",
              "      <th></th>\n",
              "      <th>id</th>\n",
              "      <th>title</th>\n",
              "      <th>description</th>\n",
              "      <th>channel</th>\n",
              "      <th>category</th>\n",
              "      <th>level</th>\n",
              "      <th>language</th>\n",
              "      <th>parent</th>\n",
              "      <th>has_content</th>\n",
              "    </tr>\n",
              "  </thead>\n",
              "  <tbody>\n",
              "    <tr>\n",
              "      <th>0</th>\n",
              "      <td>t_00004da3a1b2</td>\n",
              "      <td>Откриването на резисторите</td>\n",
              "      <td>Изследване на материали, които предизвикват на...</td>\n",
              "      <td>000cf7</td>\n",
              "      <td>source</td>\n",
              "      <td>4</td>\n",
              "      <td>bg</td>\n",
              "      <td>t_16e29365b50d</td>\n",
              "      <td>True</td>\n",
              "    </tr>\n",
              "    <tr>\n",
              "      <th>1</th>\n",
              "      <td>t_000095e03056</td>\n",
              "      <td>Unit 3.3 Enlargements and Similarities</td>\n",
              "      <td>NaN</td>\n",
              "      <td>b3f329</td>\n",
              "      <td>aligned</td>\n",
              "      <td>2</td>\n",
              "      <td>en</td>\n",
              "      <td>t_aa32fb6252dc</td>\n",
              "      <td>False</td>\n",
              "    </tr>\n",
              "    <tr>\n",
              "      <th>2</th>\n",
              "      <td>t_00068291e9a4</td>\n",
              "      <td>Entradas e saídas de uma função</td>\n",
              "      <td>Entenda um pouco mais sobre funções.</td>\n",
              "      <td>8e286a</td>\n",
              "      <td>source</td>\n",
              "      <td>4</td>\n",
              "      <td>pt</td>\n",
              "      <td>t_d14b6c2a2b70</td>\n",
              "      <td>True</td>\n",
              "    </tr>\n",
              "  </tbody>\n",
              "</table>\n",
              "</div>\n",
              "      <button class=\"colab-df-convert\" onclick=\"convertToInteractive('df-a9d7e29f-230a-464a-bd2e-80b60540cff7')\"\n",
              "              title=\"Convert this dataframe to an interactive table.\"\n",
              "              style=\"display:none;\">\n",
              "        \n",
              "  <svg xmlns=\"http://www.w3.org/2000/svg\" height=\"24px\"viewBox=\"0 0 24 24\"\n",
              "       width=\"24px\">\n",
              "    <path d=\"M0 0h24v24H0V0z\" fill=\"none\"/>\n",
              "    <path d=\"M18.56 5.44l.94 2.06.94-2.06 2.06-.94-2.06-.94-.94-2.06-.94 2.06-2.06.94zm-11 1L8.5 8.5l.94-2.06 2.06-.94-2.06-.94L8.5 2.5l-.94 2.06-2.06.94zm10 10l.94 2.06.94-2.06 2.06-.94-2.06-.94-.94-2.06-.94 2.06-2.06.94z\"/><path d=\"M17.41 7.96l-1.37-1.37c-.4-.4-.92-.59-1.43-.59-.52 0-1.04.2-1.43.59L10.3 9.45l-7.72 7.72c-.78.78-.78 2.05 0 2.83L4 21.41c.39.39.9.59 1.41.59.51 0 1.02-.2 1.41-.59l7.78-7.78 2.81-2.81c.8-.78.8-2.07 0-2.86zM5.41 20L4 18.59l7.72-7.72 1.47 1.35L5.41 20z\"/>\n",
              "  </svg>\n",
              "      </button>\n",
              "      \n",
              "  <style>\n",
              "    .colab-df-container {\n",
              "      display:flex;\n",
              "      flex-wrap:wrap;\n",
              "      gap: 12px;\n",
              "    }\n",
              "\n",
              "    .colab-df-convert {\n",
              "      background-color: #E8F0FE;\n",
              "      border: none;\n",
              "      border-radius: 50%;\n",
              "      cursor: pointer;\n",
              "      display: none;\n",
              "      fill: #1967D2;\n",
              "      height: 32px;\n",
              "      padding: 0 0 0 0;\n",
              "      width: 32px;\n",
              "    }\n",
              "\n",
              "    .colab-df-convert:hover {\n",
              "      background-color: #E2EBFA;\n",
              "      box-shadow: 0px 1px 2px rgba(60, 64, 67, 0.3), 0px 1px 3px 1px rgba(60, 64, 67, 0.15);\n",
              "      fill: #174EA6;\n",
              "    }\n",
              "\n",
              "    [theme=dark] .colab-df-convert {\n",
              "      background-color: #3B4455;\n",
              "      fill: #D2E3FC;\n",
              "    }\n",
              "\n",
              "    [theme=dark] .colab-df-convert:hover {\n",
              "      background-color: #434B5C;\n",
              "      box-shadow: 0px 1px 3px 1px rgba(0, 0, 0, 0.15);\n",
              "      filter: drop-shadow(0px 1px 2px rgba(0, 0, 0, 0.3));\n",
              "      fill: #FFFFFF;\n",
              "    }\n",
              "  </style>\n",
              "\n",
              "      <script>\n",
              "        const buttonEl =\n",
              "          document.querySelector('#df-a9d7e29f-230a-464a-bd2e-80b60540cff7 button.colab-df-convert');\n",
              "        buttonEl.style.display =\n",
              "          google.colab.kernel.accessAllowed ? 'block' : 'none';\n",
              "\n",
              "        async function convertToInteractive(key) {\n",
              "          const element = document.querySelector('#df-a9d7e29f-230a-464a-bd2e-80b60540cff7');\n",
              "          const dataTable =\n",
              "            await google.colab.kernel.invokeFunction('convertToInteractive',\n",
              "                                                     [key], {});\n",
              "          if (!dataTable) return;\n",
              "\n",
              "          const docLinkHtml = 'Like what you see? Visit the ' +\n",
              "            '<a target=\"_blank\" href=https://colab.research.google.com/notebooks/data_table.ipynb>data table notebook</a>'\n",
              "            + ' to learn more about interactive tables.';\n",
              "          element.innerHTML = '';\n",
              "          dataTable['output_type'] = 'display_data';\n",
              "          await google.colab.output.renderOutput(dataTable, element);\n",
              "          const docLink = document.createElement('div');\n",
              "          docLink.innerHTML = docLinkHtml;\n",
              "          element.appendChild(docLink);\n",
              "        }\n",
              "      </script>\n",
              "    </div>\n",
              "  </div>\n",
              "  "
            ]
          },
          "metadata": {},
          "execution_count": 5
        }
      ],
      "source": [
        "# tops.head(3)"
      ]
    },
    {
      "cell_type": "code",
      "execution_count": null,
      "metadata": {
        "colab": {
          "base_uri": "https://localhost:8080/"
        },
        "id": "iqx8_tJrHvCN",
        "outputId": "1f71fb1d-da64-4949-9d1d-ee4b0cd20604"
      },
      "outputs": [
        {
          "output_type": "execute_result",
          "data": {
            "text/plain": [
              "0"
            ]
          },
          "metadata": {},
          "execution_count": 97
        }
      ],
      "source": [
        "# tops[tops[\"id\"] == \"t_bcf10c48c68b\"][\"level\"].values[0]"
      ]
    },
    {
      "cell_type": "code",
      "execution_count": null,
      "metadata": {
        "colab": {
          "base_uri": "https://localhost:8080/",
          "height": 143
        },
        "id": "4K_hacfDC1Hv",
        "outputId": "bdf09742-f0bf-40fc-c03c-a88f54e2ed59"
      },
      "outputs": [
        {
          "output_type": "execute_result",
          "data": {
            "text/plain": [
              "                id                        title description channel  \\\n",
              "6   t_0008a1bd84ba    12. 20: Bird Reproduction         NaN  ebc86c   \n",
              "23  t_00181801a645  Book: Microbiology (Kaiser)         NaN  ebc86c   \n",
              "61  t_003bb2871126     7.5: Prokaryote Habitats         NaN  ebc86c   \n",
              "\n",
              "        category  level language          parent  has_content  \n",
              "6   supplemental      5       en  t_c44ac9711007         True  \n",
              "23  supplemental      3       en  t_324ab09c3885        False  \n",
              "61  supplemental      5       en  t_93432336a78c         True  "
            ],
            "text/html": [
              "\n",
              "  <div id=\"df-38b74c37-ea56-4270-b55f-89c6890aa732\">\n",
              "    <div class=\"colab-df-container\">\n",
              "      <div>\n",
              "<style scoped>\n",
              "    .dataframe tbody tr th:only-of-type {\n",
              "        vertical-align: middle;\n",
              "    }\n",
              "\n",
              "    .dataframe tbody tr th {\n",
              "        vertical-align: top;\n",
              "    }\n",
              "\n",
              "    .dataframe thead th {\n",
              "        text-align: right;\n",
              "    }\n",
              "</style>\n",
              "<table border=\"1\" class=\"dataframe\">\n",
              "  <thead>\n",
              "    <tr style=\"text-align: right;\">\n",
              "      <th></th>\n",
              "      <th>id</th>\n",
              "      <th>title</th>\n",
              "      <th>description</th>\n",
              "      <th>channel</th>\n",
              "      <th>category</th>\n",
              "      <th>level</th>\n",
              "      <th>language</th>\n",
              "      <th>parent</th>\n",
              "      <th>has_content</th>\n",
              "    </tr>\n",
              "  </thead>\n",
              "  <tbody>\n",
              "    <tr>\n",
              "      <th>6</th>\n",
              "      <td>t_0008a1bd84ba</td>\n",
              "      <td>12. 20: Bird Reproduction</td>\n",
              "      <td>NaN</td>\n",
              "      <td>ebc86c</td>\n",
              "      <td>supplemental</td>\n",
              "      <td>5</td>\n",
              "      <td>en</td>\n",
              "      <td>t_c44ac9711007</td>\n",
              "      <td>True</td>\n",
              "    </tr>\n",
              "    <tr>\n",
              "      <th>23</th>\n",
              "      <td>t_00181801a645</td>\n",
              "      <td>Book: Microbiology (Kaiser)</td>\n",
              "      <td>NaN</td>\n",
              "      <td>ebc86c</td>\n",
              "      <td>supplemental</td>\n",
              "      <td>3</td>\n",
              "      <td>en</td>\n",
              "      <td>t_324ab09c3885</td>\n",
              "      <td>False</td>\n",
              "    </tr>\n",
              "    <tr>\n",
              "      <th>61</th>\n",
              "      <td>t_003bb2871126</td>\n",
              "      <td>7.5: Prokaryote Habitats</td>\n",
              "      <td>NaN</td>\n",
              "      <td>ebc86c</td>\n",
              "      <td>supplemental</td>\n",
              "      <td>5</td>\n",
              "      <td>en</td>\n",
              "      <td>t_93432336a78c</td>\n",
              "      <td>True</td>\n",
              "    </tr>\n",
              "  </tbody>\n",
              "</table>\n",
              "</div>\n",
              "      <button class=\"colab-df-convert\" onclick=\"convertToInteractive('df-38b74c37-ea56-4270-b55f-89c6890aa732')\"\n",
              "              title=\"Convert this dataframe to an interactive table.\"\n",
              "              style=\"display:none;\">\n",
              "        \n",
              "  <svg xmlns=\"http://www.w3.org/2000/svg\" height=\"24px\"viewBox=\"0 0 24 24\"\n",
              "       width=\"24px\">\n",
              "    <path d=\"M0 0h24v24H0V0z\" fill=\"none\"/>\n",
              "    <path d=\"M18.56 5.44l.94 2.06.94-2.06 2.06-.94-2.06-.94-.94-2.06-.94 2.06-2.06.94zm-11 1L8.5 8.5l.94-2.06 2.06-.94-2.06-.94L8.5 2.5l-.94 2.06-2.06.94zm10 10l.94 2.06.94-2.06 2.06-.94-2.06-.94-.94-2.06-.94 2.06-2.06.94z\"/><path d=\"M17.41 7.96l-1.37-1.37c-.4-.4-.92-.59-1.43-.59-.52 0-1.04.2-1.43.59L10.3 9.45l-7.72 7.72c-.78.78-.78 2.05 0 2.83L4 21.41c.39.39.9.59 1.41.59.51 0 1.02-.2 1.41-.59l7.78-7.78 2.81-2.81c.8-.78.8-2.07 0-2.86zM5.41 20L4 18.59l7.72-7.72 1.47 1.35L5.41 20z\"/>\n",
              "  </svg>\n",
              "      </button>\n",
              "      \n",
              "  <style>\n",
              "    .colab-df-container {\n",
              "      display:flex;\n",
              "      flex-wrap:wrap;\n",
              "      gap: 12px;\n",
              "    }\n",
              "\n",
              "    .colab-df-convert {\n",
              "      background-color: #E8F0FE;\n",
              "      border: none;\n",
              "      border-radius: 50%;\n",
              "      cursor: pointer;\n",
              "      display: none;\n",
              "      fill: #1967D2;\n",
              "      height: 32px;\n",
              "      padding: 0 0 0 0;\n",
              "      width: 32px;\n",
              "    }\n",
              "\n",
              "    .colab-df-convert:hover {\n",
              "      background-color: #E2EBFA;\n",
              "      box-shadow: 0px 1px 2px rgba(60, 64, 67, 0.3), 0px 1px 3px 1px rgba(60, 64, 67, 0.15);\n",
              "      fill: #174EA6;\n",
              "    }\n",
              "\n",
              "    [theme=dark] .colab-df-convert {\n",
              "      background-color: #3B4455;\n",
              "      fill: #D2E3FC;\n",
              "    }\n",
              "\n",
              "    [theme=dark] .colab-df-convert:hover {\n",
              "      background-color: #434B5C;\n",
              "      box-shadow: 0px 1px 3px 1px rgba(0, 0, 0, 0.15);\n",
              "      filter: drop-shadow(0px 1px 2px rgba(0, 0, 0, 0.3));\n",
              "      fill: #FFFFFF;\n",
              "    }\n",
              "  </style>\n",
              "\n",
              "      <script>\n",
              "        const buttonEl =\n",
              "          document.querySelector('#df-38b74c37-ea56-4270-b55f-89c6890aa732 button.colab-df-convert');\n",
              "        buttonEl.style.display =\n",
              "          google.colab.kernel.accessAllowed ? 'block' : 'none';\n",
              "\n",
              "        async function convertToInteractive(key) {\n",
              "          const element = document.querySelector('#df-38b74c37-ea56-4270-b55f-89c6890aa732');\n",
              "          const dataTable =\n",
              "            await google.colab.kernel.invokeFunction('convertToInteractive',\n",
              "                                                     [key], {});\n",
              "          if (!dataTable) return;\n",
              "\n",
              "          const docLinkHtml = 'Like what you see? Visit the ' +\n",
              "            '<a target=\"_blank\" href=https://colab.research.google.com/notebooks/data_table.ipynb>data table notebook</a>'\n",
              "            + ' to learn more about interactive tables.';\n",
              "          element.innerHTML = '';\n",
              "          dataTable['output_type'] = 'display_data';\n",
              "          await google.colab.output.renderOutput(dataTable, element);\n",
              "          const docLink = document.createElement('div');\n",
              "          docLink.innerHTML = docLinkHtml;\n",
              "          element.appendChild(docLink);\n",
              "        }\n",
              "      </script>\n",
              "    </div>\n",
              "  </div>\n",
              "  "
            ]
          },
          "metadata": {},
          "execution_count": 96
        }
      ],
      "source": [
        "# tops.loc[(tops[\"language\"] == \"en\") & (tops[\"channel\"] == \"ebc86c\")].head(3)"
      ]
    },
    {
      "cell_type": "code",
      "execution_count": null,
      "metadata": {
        "colab": {
          "base_uri": "https://localhost:8080/",
          "height": 175
        },
        "id": "PnBF0lSaBVq_",
        "outputId": "59a1073a-633f-4e26-d150-04752984f0bf"
      },
      "outputs": [
        {
          "data": {
            "text/html": [
              "\n",
              "  <div id=\"df-c79d5470-c0ba-41a0-afa2-2998f5142f67\">\n",
              "    <div class=\"colab-df-container\">\n",
              "      <div>\n",
              "<style scoped>\n",
              "    .dataframe tbody tr th:only-of-type {\n",
              "        vertical-align: middle;\n",
              "    }\n",
              "\n",
              "    .dataframe tbody tr th {\n",
              "        vertical-align: top;\n",
              "    }\n",
              "\n",
              "    .dataframe thead th {\n",
              "        text-align: right;\n",
              "    }\n",
              "</style>\n",
              "<table border=\"1\" class=\"dataframe\">\n",
              "  <thead>\n",
              "    <tr style=\"text-align: right;\">\n",
              "      <th></th>\n",
              "      <th>title</th>\n",
              "      <th>description</th>\n",
              "    </tr>\n",
              "  </thead>\n",
              "  <tbody>\n",
              "    <tr>\n",
              "      <th>3</th>\n",
              "      <td>Transcripts</td>\n",
              "      <td>NaN</td>\n",
              "    </tr>\n",
              "    <tr>\n",
              "      <th>6</th>\n",
              "      <td>12. 20: Bird Reproduction</td>\n",
              "      <td>NaN</td>\n",
              "    </tr>\n",
              "    <tr>\n",
              "      <th>8</th>\n",
              "      <td>2.1.2 - Logarithms</td>\n",
              "      <td>NaN</td>\n",
              "    </tr>\n",
              "    <tr>\n",
              "      <th>10</th>\n",
              "      <td>Triangles and polygons</td>\n",
              "      <td>Learning outcomes: students must be able to so...</td>\n",
              "    </tr>\n",
              "  </tbody>\n",
              "</table>\n",
              "</div>\n",
              "      <button class=\"colab-df-convert\" onclick=\"convertToInteractive('df-c79d5470-c0ba-41a0-afa2-2998f5142f67')\"\n",
              "              title=\"Convert this dataframe to an interactive table.\"\n",
              "              style=\"display:none;\">\n",
              "        \n",
              "  <svg xmlns=\"http://www.w3.org/2000/svg\" height=\"24px\"viewBox=\"0 0 24 24\"\n",
              "       width=\"24px\">\n",
              "    <path d=\"M0 0h24v24H0V0z\" fill=\"none\"/>\n",
              "    <path d=\"M18.56 5.44l.94 2.06.94-2.06 2.06-.94-2.06-.94-.94-2.06-.94 2.06-2.06.94zm-11 1L8.5 8.5l.94-2.06 2.06-.94-2.06-.94L8.5 2.5l-.94 2.06-2.06.94zm10 10l.94 2.06.94-2.06 2.06-.94-2.06-.94-.94-2.06-.94 2.06-2.06.94z\"/><path d=\"M17.41 7.96l-1.37-1.37c-.4-.4-.92-.59-1.43-.59-.52 0-1.04.2-1.43.59L10.3 9.45l-7.72 7.72c-.78.78-.78 2.05 0 2.83L4 21.41c.39.39.9.59 1.41.59.51 0 1.02-.2 1.41-.59l7.78-7.78 2.81-2.81c.8-.78.8-2.07 0-2.86zM5.41 20L4 18.59l7.72-7.72 1.47 1.35L5.41 20z\"/>\n",
              "  </svg>\n",
              "      </button>\n",
              "      \n",
              "  <style>\n",
              "    .colab-df-container {\n",
              "      display:flex;\n",
              "      flex-wrap:wrap;\n",
              "      gap: 12px;\n",
              "    }\n",
              "\n",
              "    .colab-df-convert {\n",
              "      background-color: #E8F0FE;\n",
              "      border: none;\n",
              "      border-radius: 50%;\n",
              "      cursor: pointer;\n",
              "      display: none;\n",
              "      fill: #1967D2;\n",
              "      height: 32px;\n",
              "      padding: 0 0 0 0;\n",
              "      width: 32px;\n",
              "    }\n",
              "\n",
              "    .colab-df-convert:hover {\n",
              "      background-color: #E2EBFA;\n",
              "      box-shadow: 0px 1px 2px rgba(60, 64, 67, 0.3), 0px 1px 3px 1px rgba(60, 64, 67, 0.15);\n",
              "      fill: #174EA6;\n",
              "    }\n",
              "\n",
              "    [theme=dark] .colab-df-convert {\n",
              "      background-color: #3B4455;\n",
              "      fill: #D2E3FC;\n",
              "    }\n",
              "\n",
              "    [theme=dark] .colab-df-convert:hover {\n",
              "      background-color: #434B5C;\n",
              "      box-shadow: 0px 1px 3px 1px rgba(0, 0, 0, 0.15);\n",
              "      filter: drop-shadow(0px 1px 2px rgba(0, 0, 0, 0.3));\n",
              "      fill: #FFFFFF;\n",
              "    }\n",
              "  </style>\n",
              "\n",
              "      <script>\n",
              "        const buttonEl =\n",
              "          document.querySelector('#df-c79d5470-c0ba-41a0-afa2-2998f5142f67 button.colab-df-convert');\n",
              "        buttonEl.style.display =\n",
              "          google.colab.kernel.accessAllowed ? 'block' : 'none';\n",
              "\n",
              "        async function convertToInteractive(key) {\n",
              "          const element = document.querySelector('#df-c79d5470-c0ba-41a0-afa2-2998f5142f67');\n",
              "          const dataTable =\n",
              "            await google.colab.kernel.invokeFunction('convertToInteractive',\n",
              "                                                     [key], {});\n",
              "          if (!dataTable) return;\n",
              "\n",
              "          const docLinkHtml = 'Like what you see? Visit the ' +\n",
              "            '<a target=\"_blank\" href=https://colab.research.google.com/notebooks/data_table.ipynb>data table notebook</a>'\n",
              "            + ' to learn more about interactive tables.';\n",
              "          element.innerHTML = '';\n",
              "          dataTable['output_type'] = 'display_data';\n",
              "          await google.colab.output.renderOutput(dataTable, element);\n",
              "          const docLink = document.createElement('div');\n",
              "          docLink.innerHTML = docLinkHtml;\n",
              "          element.appendChild(docLink);\n",
              "        }\n",
              "      </script>\n",
              "    </div>\n",
              "  </div>\n",
              "  "
            ],
            "text/plain": [
              "                        title  \\\n",
              "3                 Transcripts   \n",
              "6   12. 20: Bird Reproduction   \n",
              "8          2.1.2 - Logarithms   \n",
              "10     Triangles and polygons   \n",
              "\n",
              "                                          description  \n",
              "3                                                 NaN  \n",
              "6                                                 NaN  \n",
              "8                                                 NaN  \n",
              "10  Learning outcomes: students must be able to so...  "
            ]
          },
          "execution_count": 5,
          "metadata": {},
          "output_type": "execute_result"
        }
      ],
      "source": [
        "# tops.loc[(tops[\"language\"] == \"en\") & (tops[\"has_content\"] == True)].iloc[:, [1,2]].head(4)"
      ]
    },
    {
      "cell_type": "code",
      "source": [
        "# n_tops = tops.loc[(tops[\"language\"] == \"en\") & (tops[\"has_content\"] == True)].iloc[:, [0, 1, 2, 7]]\n",
        "# x = n_tops.reset_index().drop(\"index\", axis=1)\n",
        "# x.head(3)"
      ],
      "metadata": {
        "colab": {
          "base_uri": "https://localhost:8080/",
          "height": 143
        },
        "id": "FRr8rlyPK5WA",
        "outputId": "dbbf5ae3-bfbb-46b1-b3bb-5525ab4bcf14"
      },
      "execution_count": null,
      "outputs": [
        {
          "output_type": "execute_result",
          "data": {
            "text/plain": [
              "               id                      title description          parent\n",
              "0  t_00069b63a70a                Transcripts         NaN  t_4054df11a74e\n",
              "1  t_0008a1bd84ba  12. 20: Bird Reproduction         NaN  t_c44ac9711007\n",
              "2  t_000d1fb3f2f5         2.1.2 - Logarithms         NaN  t_b897d168db90"
            ],
            "text/html": [
              "\n",
              "  <div id=\"df-a0711a60-e9d5-4875-a18f-309823e98f46\">\n",
              "    <div class=\"colab-df-container\">\n",
              "      <div>\n",
              "<style scoped>\n",
              "    .dataframe tbody tr th:only-of-type {\n",
              "        vertical-align: middle;\n",
              "    }\n",
              "\n",
              "    .dataframe tbody tr th {\n",
              "        vertical-align: top;\n",
              "    }\n",
              "\n",
              "    .dataframe thead th {\n",
              "        text-align: right;\n",
              "    }\n",
              "</style>\n",
              "<table border=\"1\" class=\"dataframe\">\n",
              "  <thead>\n",
              "    <tr style=\"text-align: right;\">\n",
              "      <th></th>\n",
              "      <th>id</th>\n",
              "      <th>title</th>\n",
              "      <th>description</th>\n",
              "      <th>parent</th>\n",
              "    </tr>\n",
              "  </thead>\n",
              "  <tbody>\n",
              "    <tr>\n",
              "      <th>0</th>\n",
              "      <td>t_00069b63a70a</td>\n",
              "      <td>Transcripts</td>\n",
              "      <td>NaN</td>\n",
              "      <td>t_4054df11a74e</td>\n",
              "    </tr>\n",
              "    <tr>\n",
              "      <th>1</th>\n",
              "      <td>t_0008a1bd84ba</td>\n",
              "      <td>12. 20: Bird Reproduction</td>\n",
              "      <td>NaN</td>\n",
              "      <td>t_c44ac9711007</td>\n",
              "    </tr>\n",
              "    <tr>\n",
              "      <th>2</th>\n",
              "      <td>t_000d1fb3f2f5</td>\n",
              "      <td>2.1.2 - Logarithms</td>\n",
              "      <td>NaN</td>\n",
              "      <td>t_b897d168db90</td>\n",
              "    </tr>\n",
              "  </tbody>\n",
              "</table>\n",
              "</div>\n",
              "      <button class=\"colab-df-convert\" onclick=\"convertToInteractive('df-a0711a60-e9d5-4875-a18f-309823e98f46')\"\n",
              "              title=\"Convert this dataframe to an interactive table.\"\n",
              "              style=\"display:none;\">\n",
              "        \n",
              "  <svg xmlns=\"http://www.w3.org/2000/svg\" height=\"24px\"viewBox=\"0 0 24 24\"\n",
              "       width=\"24px\">\n",
              "    <path d=\"M0 0h24v24H0V0z\" fill=\"none\"/>\n",
              "    <path d=\"M18.56 5.44l.94 2.06.94-2.06 2.06-.94-2.06-.94-.94-2.06-.94 2.06-2.06.94zm-11 1L8.5 8.5l.94-2.06 2.06-.94-2.06-.94L8.5 2.5l-.94 2.06-2.06.94zm10 10l.94 2.06.94-2.06 2.06-.94-2.06-.94-.94-2.06-.94 2.06-2.06.94z\"/><path d=\"M17.41 7.96l-1.37-1.37c-.4-.4-.92-.59-1.43-.59-.52 0-1.04.2-1.43.59L10.3 9.45l-7.72 7.72c-.78.78-.78 2.05 0 2.83L4 21.41c.39.39.9.59 1.41.59.51 0 1.02-.2 1.41-.59l7.78-7.78 2.81-2.81c.8-.78.8-2.07 0-2.86zM5.41 20L4 18.59l7.72-7.72 1.47 1.35L5.41 20z\"/>\n",
              "  </svg>\n",
              "      </button>\n",
              "      \n",
              "  <style>\n",
              "    .colab-df-container {\n",
              "      display:flex;\n",
              "      flex-wrap:wrap;\n",
              "      gap: 12px;\n",
              "    }\n",
              "\n",
              "    .colab-df-convert {\n",
              "      background-color: #E8F0FE;\n",
              "      border: none;\n",
              "      border-radius: 50%;\n",
              "      cursor: pointer;\n",
              "      display: none;\n",
              "      fill: #1967D2;\n",
              "      height: 32px;\n",
              "      padding: 0 0 0 0;\n",
              "      width: 32px;\n",
              "    }\n",
              "\n",
              "    .colab-df-convert:hover {\n",
              "      background-color: #E2EBFA;\n",
              "      box-shadow: 0px 1px 2px rgba(60, 64, 67, 0.3), 0px 1px 3px 1px rgba(60, 64, 67, 0.15);\n",
              "      fill: #174EA6;\n",
              "    }\n",
              "\n",
              "    [theme=dark] .colab-df-convert {\n",
              "      background-color: #3B4455;\n",
              "      fill: #D2E3FC;\n",
              "    }\n",
              "\n",
              "    [theme=dark] .colab-df-convert:hover {\n",
              "      background-color: #434B5C;\n",
              "      box-shadow: 0px 1px 3px 1px rgba(0, 0, 0, 0.15);\n",
              "      filter: drop-shadow(0px 1px 2px rgba(0, 0, 0, 0.3));\n",
              "      fill: #FFFFFF;\n",
              "    }\n",
              "  </style>\n",
              "\n",
              "      <script>\n",
              "        const buttonEl =\n",
              "          document.querySelector('#df-a0711a60-e9d5-4875-a18f-309823e98f46 button.colab-df-convert');\n",
              "        buttonEl.style.display =\n",
              "          google.colab.kernel.accessAllowed ? 'block' : 'none';\n",
              "\n",
              "        async function convertToInteractive(key) {\n",
              "          const element = document.querySelector('#df-a0711a60-e9d5-4875-a18f-309823e98f46');\n",
              "          const dataTable =\n",
              "            await google.colab.kernel.invokeFunction('convertToInteractive',\n",
              "                                                     [key], {});\n",
              "          if (!dataTable) return;\n",
              "\n",
              "          const docLinkHtml = 'Like what you see? Visit the ' +\n",
              "            '<a target=\"_blank\" href=https://colab.research.google.com/notebooks/data_table.ipynb>data table notebook</a>'\n",
              "            + ' to learn more about interactive tables.';\n",
              "          element.innerHTML = '';\n",
              "          dataTable['output_type'] = 'display_data';\n",
              "          await google.colab.output.renderOutput(dataTable, element);\n",
              "          const docLink = document.createElement('div');\n",
              "          docLink.innerHTML = docLinkHtml;\n",
              "          element.appendChild(docLink);\n",
              "        }\n",
              "      </script>\n",
              "    </div>\n",
              "  </div>\n",
              "  "
            ]
          },
          "metadata": {},
          "execution_count": 68
        }
      ]
    },
    {
      "cell_type": "code",
      "source": [
        "# print(x.iloc[0][\"parent\"])"
      ],
      "metadata": {
        "colab": {
          "base_uri": "https://localhost:8080/"
        },
        "id": "s7lQBpmyPMel",
        "outputId": "902f8d41-55d0-4968-bddf-1adf5b75b314"
      },
      "execution_count": null,
      "outputs": [
        {
          "output_type": "stream",
          "name": "stdout",
          "text": [
            "t_4054df11a74e\n"
          ]
        }
      ]
    },
    {
      "cell_type": "code",
      "source": [
        "# tops[tops[\"parent\"] == \"t_6e0c6c2f99de\"].head(2)"
      ],
      "metadata": {
        "colab": {
          "base_uri": "https://localhost:8080/",
          "height": 112
        },
        "id": "lmsfG-eKVupd",
        "outputId": "f54e1791-829a-4a39-84b9-67321f90f316"
      },
      "execution_count": null,
      "outputs": [
        {
          "output_type": "execute_result",
          "data": {
            "text/plain": [
              "                   id              title description channel category  level  \\\n",
              "5639   t_12e343e9c540         পশ্চিমবঙ্গ         NaN  4d2d4a   source      1   \n",
              "14048  t_2efac8b92267  अखिल भारतीय हिंदी         NaN  4d2d4a   source      1   \n",
              "\n",
              "      language          parent  has_content  \n",
              "5639        bn  t_6e0c6c2f99de        False  \n",
              "14048       hi  t_6e0c6c2f99de        False  "
            ],
            "text/html": [
              "\n",
              "  <div id=\"df-93311b16-6aab-4b72-a525-01946bcf6ad5\">\n",
              "    <div class=\"colab-df-container\">\n",
              "      <div>\n",
              "<style scoped>\n",
              "    .dataframe tbody tr th:only-of-type {\n",
              "        vertical-align: middle;\n",
              "    }\n",
              "\n",
              "    .dataframe tbody tr th {\n",
              "        vertical-align: top;\n",
              "    }\n",
              "\n",
              "    .dataframe thead th {\n",
              "        text-align: right;\n",
              "    }\n",
              "</style>\n",
              "<table border=\"1\" class=\"dataframe\">\n",
              "  <thead>\n",
              "    <tr style=\"text-align: right;\">\n",
              "      <th></th>\n",
              "      <th>id</th>\n",
              "      <th>title</th>\n",
              "      <th>description</th>\n",
              "      <th>channel</th>\n",
              "      <th>category</th>\n",
              "      <th>level</th>\n",
              "      <th>language</th>\n",
              "      <th>parent</th>\n",
              "      <th>has_content</th>\n",
              "    </tr>\n",
              "  </thead>\n",
              "  <tbody>\n",
              "    <tr>\n",
              "      <th>5639</th>\n",
              "      <td>t_12e343e9c540</td>\n",
              "      <td>পশ্চিমবঙ্গ</td>\n",
              "      <td>NaN</td>\n",
              "      <td>4d2d4a</td>\n",
              "      <td>source</td>\n",
              "      <td>1</td>\n",
              "      <td>bn</td>\n",
              "      <td>t_6e0c6c2f99de</td>\n",
              "      <td>False</td>\n",
              "    </tr>\n",
              "    <tr>\n",
              "      <th>14048</th>\n",
              "      <td>t_2efac8b92267</td>\n",
              "      <td>अखिल भारतीय हिंदी</td>\n",
              "      <td>NaN</td>\n",
              "      <td>4d2d4a</td>\n",
              "      <td>source</td>\n",
              "      <td>1</td>\n",
              "      <td>hi</td>\n",
              "      <td>t_6e0c6c2f99de</td>\n",
              "      <td>False</td>\n",
              "    </tr>\n",
              "  </tbody>\n",
              "</table>\n",
              "</div>\n",
              "      <button class=\"colab-df-convert\" onclick=\"convertToInteractive('df-93311b16-6aab-4b72-a525-01946bcf6ad5')\"\n",
              "              title=\"Convert this dataframe to an interactive table.\"\n",
              "              style=\"display:none;\">\n",
              "        \n",
              "  <svg xmlns=\"http://www.w3.org/2000/svg\" height=\"24px\"viewBox=\"0 0 24 24\"\n",
              "       width=\"24px\">\n",
              "    <path d=\"M0 0h24v24H0V0z\" fill=\"none\"/>\n",
              "    <path d=\"M18.56 5.44l.94 2.06.94-2.06 2.06-.94-2.06-.94-.94-2.06-.94 2.06-2.06.94zm-11 1L8.5 8.5l.94-2.06 2.06-.94-2.06-.94L8.5 2.5l-.94 2.06-2.06.94zm10 10l.94 2.06.94-2.06 2.06-.94-2.06-.94-.94-2.06-.94 2.06-2.06.94z\"/><path d=\"M17.41 7.96l-1.37-1.37c-.4-.4-.92-.59-1.43-.59-.52 0-1.04.2-1.43.59L10.3 9.45l-7.72 7.72c-.78.78-.78 2.05 0 2.83L4 21.41c.39.39.9.59 1.41.59.51 0 1.02-.2 1.41-.59l7.78-7.78 2.81-2.81c.8-.78.8-2.07 0-2.86zM5.41 20L4 18.59l7.72-7.72 1.47 1.35L5.41 20z\"/>\n",
              "  </svg>\n",
              "      </button>\n",
              "      \n",
              "  <style>\n",
              "    .colab-df-container {\n",
              "      display:flex;\n",
              "      flex-wrap:wrap;\n",
              "      gap: 12px;\n",
              "    }\n",
              "\n",
              "    .colab-df-convert {\n",
              "      background-color: #E8F0FE;\n",
              "      border: none;\n",
              "      border-radius: 50%;\n",
              "      cursor: pointer;\n",
              "      display: none;\n",
              "      fill: #1967D2;\n",
              "      height: 32px;\n",
              "      padding: 0 0 0 0;\n",
              "      width: 32px;\n",
              "    }\n",
              "\n",
              "    .colab-df-convert:hover {\n",
              "      background-color: #E2EBFA;\n",
              "      box-shadow: 0px 1px 2px rgba(60, 64, 67, 0.3), 0px 1px 3px 1px rgba(60, 64, 67, 0.15);\n",
              "      fill: #174EA6;\n",
              "    }\n",
              "\n",
              "    [theme=dark] .colab-df-convert {\n",
              "      background-color: #3B4455;\n",
              "      fill: #D2E3FC;\n",
              "    }\n",
              "\n",
              "    [theme=dark] .colab-df-convert:hover {\n",
              "      background-color: #434B5C;\n",
              "      box-shadow: 0px 1px 3px 1px rgba(0, 0, 0, 0.15);\n",
              "      filter: drop-shadow(0px 1px 2px rgba(0, 0, 0, 0.3));\n",
              "      fill: #FFFFFF;\n",
              "    }\n",
              "  </style>\n",
              "\n",
              "      <script>\n",
              "        const buttonEl =\n",
              "          document.querySelector('#df-93311b16-6aab-4b72-a525-01946bcf6ad5 button.colab-df-convert');\n",
              "        buttonEl.style.display =\n",
              "          google.colab.kernel.accessAllowed ? 'block' : 'none';\n",
              "\n",
              "        async function convertToInteractive(key) {\n",
              "          const element = document.querySelector('#df-93311b16-6aab-4b72-a525-01946bcf6ad5');\n",
              "          const dataTable =\n",
              "            await google.colab.kernel.invokeFunction('convertToInteractive',\n",
              "                                                     [key], {});\n",
              "          if (!dataTable) return;\n",
              "\n",
              "          const docLinkHtml = 'Like what you see? Visit the ' +\n",
              "            '<a target=\"_blank\" href=https://colab.research.google.com/notebooks/data_table.ipynb>data table notebook</a>'\n",
              "            + ' to learn more about interactive tables.';\n",
              "          element.innerHTML = '';\n",
              "          dataTable['output_type'] = 'display_data';\n",
              "          await google.colab.output.renderOutput(dataTable, element);\n",
              "          const docLink = document.createElement('div');\n",
              "          docLink.innerHTML = docLinkHtml;\n",
              "          element.appendChild(docLink);\n",
              "        }\n",
              "      </script>\n",
              "    </div>\n",
              "  </div>\n",
              "  "
            ]
          },
          "metadata": {},
          "execution_count": 140
        }
      ]
    },
    {
      "cell_type": "code",
      "source": [
        "# x[\"parents\"] = [[] for _ in range(len(x))]\n",
        "# for i in range(76,len(x)):\n",
        "#     if i%100 == 0:\n",
        "#         print(i)\n",
        "#     temp = x.iloc[i][\"parent\"]\n",
        "#     x.iloc[i][\"parents\"].append(temp)\n",
        "#     while tops[tops[\"id\"] == temp][\"level\"].values[0] > 0:\n",
        "#         temp = tops[tops[\"id\"] == temp][\"parent\"].values[0]\n",
        "#         x.iloc[i][\"parents\"].append(temp)\n",
        "\n",
        "# x.head(4)"
      ],
      "metadata": {
        "id": "TrSdDeBuNz74"
      },
      "execution_count": null,
      "outputs": []
    }
  ],
  "metadata": {
    "colab": {
      "provenance": []
    },
    "kernelspec": {
      "display_name": "Python 3",
      "name": "python3"
    },
    "language_info": {
      "name": "python"
    }
  },
  "nbformat": 4,
  "nbformat_minor": 0
}