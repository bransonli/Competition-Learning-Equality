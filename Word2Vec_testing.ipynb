{
  "nbformat": 4,
  "nbformat_minor": 0,
  "metadata": {
    "colab": {
      "provenance": []
    },
    "kernelspec": {
      "name": "python3",
      "display_name": "Python 3"
    },
    "language_info": {
      "name": "python"
    }
  },
  "cells": [
    {
      "cell_type": "code",
      "execution_count": null,
      "metadata": {
        "colab": {
          "base_uri": "https://localhost:8080/"
        },
        "id": "encki7kJ3TJd",
        "outputId": "8c8c3f49-15b6-416b-ba30-d1439c575587"
      },
      "outputs": [
        {
          "output_type": "stream",
          "name": "stderr",
          "text": [
            "WARNING:gensim.models.base_any2vec:under 10 jobs per worker: consider setting a smaller `batch_words' for smoother alpha decay\n"
          ]
        }
      ],
      "source": [
        "from gensim.test.utils import common_texts\n",
        "\n",
        "from gensim.models import Word2Vec\n",
        "\n",
        "\n",
        "\n",
        "model = Word2Vec(sentences=common_texts, size=100, window=5, min_count=1, workers=4)\n",
        "\n",
        "model.save(\"word2vec.model\")\n"
      ]
    },
    {
      "cell_type": "code",
      "source": [
        "print(common_texts)"
      ],
      "metadata": {
        "colab": {
          "base_uri": "https://localhost:8080/"
        },
        "id": "-fWv6DNKIyRR",
        "outputId": "bb8f597c-0f52-413a-ecf7-6e4cd060e31e"
      },
      "execution_count": null,
      "outputs": [
        {
          "output_type": "stream",
          "name": "stdout",
          "text": [
            "[['human', 'interface', 'computer'], ['survey', 'user', 'computer', 'system', 'response', 'time'], ['eps', 'user', 'interface', 'system'], ['system', 'human', 'system', 'eps'], ['user', 'response', 'time'], ['trees'], ['graph', 'trees'], ['graph', 'minors', 'trees'], ['graph', 'minors', 'survey']]\n"
          ]
        }
      ]
    },
    {
      "cell_type": "code",
      "source": [
        "model = Word2Vec.load(\"word2vec.model\")\n",
        "sims = model.wv.most_similar('computer', topn=10)\n",
        "similarity1 = model.wv.similarity('computer', 'human')\n",
        "similarity2 = model.wv.similarity('computer', 'system')"
      ],
      "metadata": {
        "id": "dLN5euZj9jfC"
      },
      "execution_count": null,
      "outputs": []
    },
    {
      "cell_type": "code",
      "source": [
        "print(sims)\n",
        "print(similarity1)\n",
        "print(similarity2)"
      ],
      "metadata": {
        "colab": {
          "base_uri": "https://localhost:8080/"
        },
        "id": "9NURuzaB_zzH",
        "outputId": "ec23ff18-f401-48e7-e9ef-0321ff3187c7"
      },
      "execution_count": null,
      "outputs": [
        {
          "output_type": "stream",
          "name": "stdout",
          "text": [
            "[('survey', 0.17630913853645325), ('user', 0.030206333845853806), ('human', 0.017473135143518448), ('system', 0.0040723830461502075), ('time', -0.014589313417673111), ('eps', -0.018184535205364227), ('interface', -0.13711561262607574), ('response', -0.15052483975887299), ('trees', -0.1572432816028595), ('minors', -0.1795506328344345)]\n",
            "0.01747314\n",
            "0.0040723984\n"
          ]
        }
      ]
    },
    {
      "cell_type": "code",
      "source": [
        "print(len(common_texts))"
      ],
      "metadata": {
        "colab": {
          "base_uri": "https://localhost:8080/"
        },
        "id": "ePTekXh6Dlov",
        "outputId": "2d8f2df9-ce88-4cb2-8f08-ff11c70f4c3f"
      },
      "execution_count": null,
      "outputs": [
        {
          "output_type": "stream",
          "name": "stdout",
          "text": [
            "9\n"
          ]
        }
      ]
    }
  ]
}